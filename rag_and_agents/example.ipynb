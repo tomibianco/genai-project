{
 "cells": [
  {
   "cell_type": "markdown",
   "metadata": {},
   "source": [
    "# Data Ingestion"
   ]
  },
  {
   "cell_type": "code",
   "execution_count": 7,
   "metadata": {},
   "outputs": [],
   "source": [
    "import os\n",
    "from dotenv import load_dotenv\n",
    "\n",
    "load_dotenv()\n",
    "\n",
    "os.environ[\"OPENAI_API_KEY\"] = os.getenv(\"OPENAI_API_KEY\")"
   ]
  },
  {
   "cell_type": "code",
   "execution_count": null,
   "metadata": {},
   "outputs": [
    {
     "data": {
      "text/plain": [
       "[Document(metadata={'source': 'example.txt'}, page_content='Hola mi nombre es Pedro, soy un Picapiedra.\\n\\nMe gusta comer hamburguesa y jugar al fútbol.')]"
      ]
     },
     "execution_count": 3,
     "metadata": {},
     "output_type": "execute_result"
    }
   ],
   "source": [
    "# Txt Reader\n",
    "from langchain_community.document_loaders import TextLoader\n",
    "loader = TextLoader(\"example.txt\")\n",
    "text_docs = loader.load()\n",
    "text_docs"
   ]
  },
  {
   "cell_type": "code",
   "execution_count": 10,
   "metadata": {},
   "outputs": [
    {
     "data": {
      "text/plain": [
       "[Document(metadata={'producer': 'PyPDF', 'creator': 'PyPDF', 'creationdate': '', 'type': '/Metadata', 'subtype': '/XML', 'source': 'example_2.pdf', 'total_pages': 1, 'page': 0, 'page_label': '1'}, page_content='Usuarios\\n*UsuarioID\\nUsuarioNombre\\nUsuarioEmail\\nUsuarioRol\\nUsuarioStatus\\nProductos\\n*ProductoID\\nProductoNombre\\nProductoPrecio\\nProductoStockMinimo\\nProductoFoto\\nUnidadMedidaID\\nProductoStatus\\nClientes\\n*ClienteID\\nClienteNombre\\nClienteDireccion\\nClienteTelefono\\nClienteStatus\\nProveedores\\n*ProveedorID\\nProveedorNombre\\nProveedorCategoria\\nProveedorTelefono\\nProveedorStatus\\nUnidadesMedida\\n*UnidadMedidaID\\nUnidadMedidaNombre\\nUnidadMedidaStatus\\nVentas\\n*VentaID\\nVentaFolio\\nVentaFecha\\nVentaHora\\nClienteID\\nUsuarioID\\nVentaMetodoPago\\nVentaStatus\\nVentaDetalle\\n*VentaDetalleID\\nVentaID\\nProductoID\\nVentaDetalleCantidad\\nVentaDetallePrecio\\nVentaDetalleImporte\\nEntradaMaterial\\n \\n*EntradaMaterialID\\nEntradaMaterialFolio\\nEntradaMaterialFecha\\nEntradaMaterialHora\\nUsuarioID\\nProveedorID\\nEntradaMaterialFirma\\nEntradaMaterialStatus\\nEntradaMaterialDetalle\\n*\\nEntradaMaterialDetalle\\nID\\nEntradaMaterialID\\nProductoID\\nEntradaMaterialDetalle\\nCantidad\\nEntradaMaterialDetalle\\nPrecio\\nEntradaMaterialDetalle\\nImporte')]"
      ]
     },
     "execution_count": 10,
     "metadata": {},
     "output_type": "execute_result"
    }
   ],
   "source": [
    "# PDF Reader\n",
    "from langchain_community.document_loaders import PyPDFLoader\n",
    "loader = PyPDFLoader(\"example_2.pdf\")\n",
    "docs = loader.load()\n",
    "docs"
   ]
  },
  {
   "cell_type": "code",
   "execution_count": null,
   "metadata": {},
   "outputs": [],
   "source": [
    "# Web Reader con Beautiful Soup para WebScrapping\n",
    "from langchain_community.document_loaders import WebBaseLoader\n",
    "import bs4\n",
    "\n",
    "loader=WebBaseLoader(web_paths=(\"https://lilianweng.github.io/posts/2023-06-23-agent/\",),\n",
    "                     bs_kwargs=dict(parse_only=bs4.SoupStrainer(\n",
    "                         class_=(\"post-title\",\"post-content\",\"post-header\")\n",
    "\n",
    "                     )))\n",
    "\n",
    "text_documents=loader.load()"
   ]
  },
  {
   "cell_type": "markdown",
   "metadata": {},
   "source": [
    "# Transform"
   ]
  },
  {
   "cell_type": "code",
   "execution_count": 20,
   "metadata": {},
   "outputs": [
    {
     "data": {
      "text/plain": [
       "[Document(metadata={'source': 'example.txt'}, page_content='Hola mi nombre es Pedro, soy un Picapiedra.'),\n",
       " Document(metadata={'source': 'example.txt'}, page_content='Me gusta comer hamburguesa y jugar al fútbol.')]"
      ]
     },
     "execution_count": 20,
     "metadata": {},
     "output_type": "execute_result"
    }
   ],
   "source": [
    "from langchain.text_splitter import RecursiveCharacterTextSplitter\n",
    "text_splitter=RecursiveCharacterTextSplitter(chunk_size=50,chunk_overlap=5)\n",
    "documents=text_splitter.split_documents(text_docs)\n",
    "documents"
   ]
  },
  {
   "cell_type": "code",
   "execution_count": 37,
   "metadata": {},
   "outputs": [],
   "source": [
    "# Vector Embedding And Vector Store\n",
    "from langchain_openai import OpenAIEmbeddings\n",
    "from langchain_community.vectorstores import Chroma\n",
    "db = Chroma.from_documents(documents,OpenAIEmbeddings(model=\"text-embedding-3-small\"))"
   ]
  },
  {
   "cell_type": "code",
   "execution_count": 38,
   "metadata": {},
   "outputs": [
    {
     "name": "stdout",
     "output_type": "stream",
     "text": [
      "Me gusta comer hamburguesa y jugar al fútbol.\n"
     ]
    }
   ],
   "source": [
    "query = \"¿Qué le gusta comer a Pedro?\"\n",
    "retireved_results = db.similarity_search(query)\n",
    "print(retireved_results[0].page_content)"
   ]
  },
  {
   "cell_type": "code",
   "execution_count": 40,
   "metadata": {},
   "outputs": [],
   "source": [
    "# OpenAI ChatGPT LLM\n",
    "from langchain_openai import ChatOpenAI\n",
    "llm = ChatOpenAI(model=\"gpt-3.5-turbo-0125\")"
   ]
  },
  {
   "cell_type": "code",
   "execution_count": 45,
   "metadata": {},
   "outputs": [],
   "source": [
    "# Design ChatPrompt Template\n",
    "from langchain_core.prompts import ChatPromptTemplate\n",
    "prompt = ChatPromptTemplate.from_template(\"\"\"\n",
    "Responde la siguiente preguna basado solamente en el contexto dado.\n",
    "Piensa paso a paso antes de entregar una respuesta detallada.\n",
    "<context>\n",
    "{context}\n",
    "</context>\n",
    "Question: {input}\"\"\")"
   ]
  },
  {
   "cell_type": "code",
   "execution_count": null,
   "metadata": {},
   "outputs": [],
   "source": [
    "# Chain Introduction\n",
    "# Create Stuff Docment Chain\n",
    "\n",
    "from langchain.chains.combine_documents import create_stuff_documents_chain\n",
    "\n",
    "document_chain = create_stuff_documents_chain(llm,prompt)"
   ]
  },
  {
   "cell_type": "code",
   "execution_count": 42,
   "metadata": {},
   "outputs": [],
   "source": [
    "from langchain.chains import create_retrieval_chain\n",
    "retriever = db.as_retriever()\n",
    "retrieval_chain = create_retrieval_chain(retriever,document_chain)"
   ]
  },
  {
   "cell_type": "code",
   "execution_count": 46,
   "metadata": {},
   "outputs": [],
   "source": [
    "response = retrieval_chain.invoke({\"input\":\"Me gustaría saber que comida le gusta a Pedro\"})"
   ]
  },
  {
   "cell_type": "code",
   "execution_count": null,
   "metadata": {},
   "outputs": [
    {
     "data": {
      "text/plain": [
       "'Pedro menciona que le gusta comer hamburguesa en el texto proporcionado. Por lo tanto, la comida que le gusta a Pedro es la hamburguesa.'"
      ]
     },
     "execution_count": 47,
     "metadata": {},
     "output_type": "execute_result"
    }
   ],
   "source": [
    "response[\"answer\"]"
   ]
  },
  {
   "cell_type": "code",
   "execution_count": 44,
   "metadata": {},
   "outputs": [],
   "source": [
    "# Creación de Calculadora Científica como Tool\n",
    "from langchain.tools import Tool\n",
    "from langchain.tools import StructuredTool\n",
    "import sympy as sp\n",
    "\n",
    "def scientific_calculator(expression: str) -> str:\n",
    "    \"\"\"\n",
    "    Evalúa una expresión matemática usando SymPy.\n",
    "    Soporta operaciones científicas avanzadas.\n",
    "    \"\"\"\n",
    "    try:\n",
    "        result = sp.sympify(expression)\n",
    "        return str(result)\n",
    "    except Exception as e:\n",
    "        return f\"Error en el cálculo: {str(e)}\"\n",
    "    \n",
    "tool = StructuredTool.from_function(\n",
    "    name=\"scientific_calculator\",\n",
    "    description=\"Realiza cálculos científicos avanzados. Usa expresiones matemáticas válidas de Python/SymPy.\",\n",
    "    func=scientific_calculator\n",
    ")\n",
    "\n",
    "# Definir la herramienta de calculadora científica\n",
    "tools = [tool]"
   ]
  },
  {
   "cell_type": "markdown",
   "metadata": {},
   "source": [
    "# Agents"
   ]
  },
  {
   "cell_type": "code",
   "execution_count": 14,
   "metadata": {},
   "outputs": [],
   "source": [
    "from dotenv import load_dotenv\n",
    "\n",
    "load_dotenv()\n",
    "import os\n",
    "os.environ['OPENAI_API_KEY']=os.getenv(\"OPENAI_API_KEY\")\n",
    "from langchain_openai import ChatOpenAI\n",
    "\n",
    "llm = ChatOpenAI(model=\"gpt-3.5-turbo-0125\", temperature=0.3)"
   ]
  },
  {
   "cell_type": "code",
   "execution_count": 24,
   "metadata": {},
   "outputs": [],
   "source": [
    "from langchain_core.prompts import ChatPromptTemplate\n",
    "prompt = ChatPromptTemplate.from_messages(\n",
    "    [\n",
    "        (\"system\", \"Actúa como matemático experto con 20 años de experiencia\"),\n",
    "        (\"user\", \"Question:{input}\"),\n",
    "        (\"placeholder\", \"{agent_scratchpad}\")\n",
    "    ]\n",
    ")"
   ]
  },
  {
   "cell_type": "code",
   "execution_count": 45,
   "metadata": {},
   "outputs": [],
   "source": [
    "# Create Agent\n",
    "from langchain.agents import create_openai_tools_agent\n",
    "agent = create_openai_tools_agent(llm,tools,prompt)"
   ]
  },
  {
   "cell_type": "code",
   "execution_count": 46,
   "metadata": {},
   "outputs": [
    {
     "data": {
      "text/plain": [
       "AgentExecutor(verbose=True, agent=RunnableMultiActionAgent(runnable=RunnableAssign(mapper={\n",
       "  agent_scratchpad: RunnableLambda(lambda x: format_to_openai_tool_messages(x['intermediate_steps']))\n",
       "})\n",
       "| ChatPromptTemplate(input_variables=['input'], optional_variables=['agent_scratchpad'], input_types={'agent_scratchpad': list[typing.Annotated[typing.Union[typing.Annotated[langchain_core.messages.ai.AIMessage, Tag(tag='ai')], typing.Annotated[langchain_core.messages.human.HumanMessage, Tag(tag='human')], typing.Annotated[langchain_core.messages.chat.ChatMessage, Tag(tag='chat')], typing.Annotated[langchain_core.messages.system.SystemMessage, Tag(tag='system')], typing.Annotated[langchain_core.messages.function.FunctionMessage, Tag(tag='function')], typing.Annotated[langchain_core.messages.tool.ToolMessage, Tag(tag='tool')], typing.Annotated[langchain_core.messages.ai.AIMessageChunk, Tag(tag='AIMessageChunk')], typing.Annotated[langchain_core.messages.human.HumanMessageChunk, Tag(tag='HumanMessageChunk')], typing.Annotated[langchain_core.messages.chat.ChatMessageChunk, Tag(tag='ChatMessageChunk')], typing.Annotated[langchain_core.messages.system.SystemMessageChunk, Tag(tag='SystemMessageChunk')], typing.Annotated[langchain_core.messages.function.FunctionMessageChunk, Tag(tag='FunctionMessageChunk')], typing.Annotated[langchain_core.messages.tool.ToolMessageChunk, Tag(tag='ToolMessageChunk')]], FieldInfo(annotation=NoneType, required=True, discriminator=Discriminator(discriminator=<function _get_type at 0x7fa7586f7880>, custom_error_type=None, custom_error_message=None, custom_error_context=None))]]}, partial_variables={'agent_scratchpad': []}, messages=[SystemMessagePromptTemplate(prompt=PromptTemplate(input_variables=[], input_types={}, partial_variables={}, template='Actúa como matemático experto con 20 años de experiencia'), additional_kwargs={}), HumanMessagePromptTemplate(prompt=PromptTemplate(input_variables=['input'], input_types={}, partial_variables={}, template='Question:{input}'), additional_kwargs={}), MessagesPlaceholder(variable_name='agent_scratchpad', optional=True)])\n",
       "| RunnableBinding(bound=ChatOpenAI(client=<openai.resources.chat.completions.Completions object at 0x7fa715ba6120>, async_client=<openai.resources.chat.completions.AsyncCompletions object at 0x7fa715bd4b90>, root_client=<openai.OpenAI object at 0x7fa716d2ef90>, root_async_client=<openai.AsyncOpenAI object at 0x7fa715ba4d40>, model_name='gpt-3.5-turbo-0125', temperature=0.3, model_kwargs={}, openai_api_key=SecretStr('**********')), kwargs={'tools': [{'type': 'function', 'function': {'name': 'scientific_calculator', 'description': 'Realiza cálculos científicos avanzados. Usa expresiones matemáticas válidas de Python/SymPy.', 'parameters': {'properties': {'expression': {'type': 'string'}}, 'required': ['expression'], 'type': 'object'}}}]}, config={}, config_factories=[])\n",
       "| OpenAIToolsAgentOutputParser(), input_keys_arg=[], return_keys_arg=[], stream_runnable=True), tools=[StructuredTool(name='scientific_calculator', description='Realiza cálculos científicos avanzados. Usa expresiones matemáticas válidas de Python/SymPy.', args_schema=<class 'langchain_core.utils.pydantic.scientific_calculator'>, func=<function scientific_calculator at 0x7fa6f02b49a0>)])"
      ]
     },
     "execution_count": 46,
     "metadata": {},
     "output_type": "execute_result"
    }
   ],
   "source": [
    "# Agent Executer\n",
    "from langchain.agents import AgentExecutor\n",
    "agent_executor = AgentExecutor(agent=agent,tools=tools,verbose=True)\n",
    "agent_executor"
   ]
  },
  {
   "cell_type": "code",
   "execution_count": 47,
   "metadata": {},
   "outputs": [
    {
     "name": "stdout",
     "output_type": "stream",
     "text": [
      "\n",
      "\n",
      "\u001b[1m> Entering new AgentExecutor chain...\u001b[0m\n",
      "\u001b[32;1m\u001b[1;3m\n",
      "Invoking: `scientific_calculator` with `{'expression': 'diff(x**2 + 2*x + 3, x)'}`\n",
      "\n",
      "\n",
      "\u001b[0m\u001b[36;1m\u001b[1;3m2*x + 2\u001b[0m\u001b[32;1m\u001b[1;3mLa derivada de \\( y = x^2 + 2x + 3 \\) es \\( 2x + 2 \\).\u001b[0m\n",
      "\n",
      "\u001b[1m> Finished chain.\u001b[0m\n"
     ]
    },
    {
     "data": {
      "text/plain": [
       "{'input': '¿Cuál es la derivada de: y=(x^2)+(2x)+3 ?',\n",
       " 'output': 'La derivada de \\\\( y = x^2 + 2x + 3 \\\\) es \\\\( 2x + 2 \\\\).'}"
      ]
     },
     "execution_count": 47,
     "metadata": {},
     "output_type": "execute_result"
    }
   ],
   "source": [
    "agent_executor.invoke({\"input\":\"¿Cuál es la derivada de: y=(x^2)+(2x)+3 ?\"})"
   ]
  }
 ],
 "metadata": {
  "kernelspec": {
   "display_name": "venv",
   "language": "python",
   "name": "python3"
  },
  "language_info": {
   "codemirror_mode": {
    "name": "ipython",
    "version": 3
   },
   "file_extension": ".py",
   "mimetype": "text/x-python",
   "name": "python",
   "nbconvert_exporter": "python",
   "pygments_lexer": "ipython3",
   "version": "3.12.3"
  }
 },
 "nbformat": 4,
 "nbformat_minor": 2
}
