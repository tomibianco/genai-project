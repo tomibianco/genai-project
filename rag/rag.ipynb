{
 "cells": [
  {
   "cell_type": "markdown",
   "metadata": {},
   "source": [
    "# Data Ingestion"
   ]
  },
  {
   "cell_type": "code",
   "execution_count": 7,
   "metadata": {},
   "outputs": [],
   "source": [
    "import os\n",
    "from dotenv import load_dotenv\n",
    "\n",
    "load_dotenv()\n",
    "\n",
    "os.environ[\"OPENAI_API_KEY\"] = os.getenv(\"OPENAI_API_KEY\")"
   ]
  },
  {
   "cell_type": "code",
   "execution_count": null,
   "metadata": {},
   "outputs": [
    {
     "data": {
      "text/plain": [
       "[Document(metadata={'source': 'example.txt'}, page_content='Hola mi nombre es Pedro, soy un Picapiedra.\\n\\nMe gusta comer hamburguesa y jugar al fútbol.')]"
      ]
     },
     "execution_count": 3,
     "metadata": {},
     "output_type": "execute_result"
    }
   ],
   "source": [
    "# Txt Reader\n",
    "from langchain_community.document_loaders import TextLoader\n",
    "loader = TextLoader(\"example.txt\")\n",
    "text_docs = loader.load()\n",
    "text_docs"
   ]
  },
  {
   "cell_type": "code",
   "execution_count": 10,
   "metadata": {},
   "outputs": [
    {
     "data": {
      "text/plain": [
       "[Document(metadata={'producer': 'PyPDF', 'creator': 'PyPDF', 'creationdate': '', 'type': '/Metadata', 'subtype': '/XML', 'source': 'example_2.pdf', 'total_pages': 1, 'page': 0, 'page_label': '1'}, page_content='Usuarios\\n*UsuarioID\\nUsuarioNombre\\nUsuarioEmail\\nUsuarioRol\\nUsuarioStatus\\nProductos\\n*ProductoID\\nProductoNombre\\nProductoPrecio\\nProductoStockMinimo\\nProductoFoto\\nUnidadMedidaID\\nProductoStatus\\nClientes\\n*ClienteID\\nClienteNombre\\nClienteDireccion\\nClienteTelefono\\nClienteStatus\\nProveedores\\n*ProveedorID\\nProveedorNombre\\nProveedorCategoria\\nProveedorTelefono\\nProveedorStatus\\nUnidadesMedida\\n*UnidadMedidaID\\nUnidadMedidaNombre\\nUnidadMedidaStatus\\nVentas\\n*VentaID\\nVentaFolio\\nVentaFecha\\nVentaHora\\nClienteID\\nUsuarioID\\nVentaMetodoPago\\nVentaStatus\\nVentaDetalle\\n*VentaDetalleID\\nVentaID\\nProductoID\\nVentaDetalleCantidad\\nVentaDetallePrecio\\nVentaDetalleImporte\\nEntradaMaterial\\n \\n*EntradaMaterialID\\nEntradaMaterialFolio\\nEntradaMaterialFecha\\nEntradaMaterialHora\\nUsuarioID\\nProveedorID\\nEntradaMaterialFirma\\nEntradaMaterialStatus\\nEntradaMaterialDetalle\\n*\\nEntradaMaterialDetalle\\nID\\nEntradaMaterialID\\nProductoID\\nEntradaMaterialDetalle\\nCantidad\\nEntradaMaterialDetalle\\nPrecio\\nEntradaMaterialDetalle\\nImporte')]"
      ]
     },
     "execution_count": 10,
     "metadata": {},
     "output_type": "execute_result"
    }
   ],
   "source": [
    "# PDF Reader\n",
    "from langchain_community.document_loaders import PyPDFLoader\n",
    "loader = PyPDFLoader(\"example_2.pdf\")\n",
    "docs = loader.load()\n",
    "docs"
   ]
  },
  {
   "cell_type": "code",
   "execution_count": null,
   "metadata": {},
   "outputs": [],
   "source": [
    "# Web Reader con Beautiful Soup para WebScrapping\n",
    "from langchain_community.document_loaders import WebBaseLoader\n",
    "import bs4\n",
    "\n",
    "loader=WebBaseLoader(web_paths=(\"https://lilianweng.github.io/posts/2023-06-23-agent/\",),\n",
    "                     bs_kwargs=dict(parse_only=bs4.SoupStrainer(\n",
    "                         class_=(\"post-title\",\"post-content\",\"post-header\")\n",
    "\n",
    "                     )))\n",
    "\n",
    "text_documents=loader.load()"
   ]
  },
  {
   "cell_type": "markdown",
   "metadata": {},
   "source": [
    "# Transform"
   ]
  },
  {
   "cell_type": "code",
   "execution_count": 20,
   "metadata": {},
   "outputs": [
    {
     "data": {
      "text/plain": [
       "[Document(metadata={'source': 'example.txt'}, page_content='Hola mi nombre es Pedro, soy un Picapiedra.'),\n",
       " Document(metadata={'source': 'example.txt'}, page_content='Me gusta comer hamburguesa y jugar al fútbol.')]"
      ]
     },
     "execution_count": 20,
     "metadata": {},
     "output_type": "execute_result"
    }
   ],
   "source": [
    "from langchain.text_splitter import RecursiveCharacterTextSplitter\n",
    "text_splitter=RecursiveCharacterTextSplitter(chunk_size=50,chunk_overlap=5)\n",
    "documents=text_splitter.split_documents(text_docs)\n",
    "documents"
   ]
  },
  {
   "cell_type": "code",
   "execution_count": 37,
   "metadata": {},
   "outputs": [],
   "source": [
    "# Vector Embedding And Vector Store\n",
    "from langchain_openai import OpenAIEmbeddings\n",
    "from langchain_community.vectorstores import Chroma\n",
    "db = Chroma.from_documents(documents,OpenAIEmbeddings(model=\"text-embedding-3-small\"))"
   ]
  },
  {
   "cell_type": "code",
   "execution_count": 38,
   "metadata": {},
   "outputs": [
    {
     "name": "stdout",
     "output_type": "stream",
     "text": [
      "Me gusta comer hamburguesa y jugar al fútbol.\n"
     ]
    }
   ],
   "source": [
    "query = \"¿Qué le gusta comer a Pedro?\"\n",
    "retireved_results = db.similarity_search(query)\n",
    "print(retireved_results[0].page_content)"
   ]
  },
  {
   "cell_type": "code",
   "execution_count": 40,
   "metadata": {},
   "outputs": [],
   "source": [
    "# OpenAI ChatGPT LLM\n",
    "from langchain_openai import ChatOpenAI\n",
    "llm = ChatOpenAI(model=\"gpt-3.5-turbo-0125\")"
   ]
  },
  {
   "cell_type": "code",
   "execution_count": 45,
   "metadata": {},
   "outputs": [],
   "source": [
    "# Design ChatPrompt Template\n",
    "from langchain_core.prompts import ChatPromptTemplate\n",
    "prompt = ChatPromptTemplate.from_template(\"\"\"\n",
    "Responde la siguiente preguna basado solamente en el contexto dado.\n",
    "Piensa paso a paso antes de entregar una respuesta detallada.\n",
    "<context>\n",
    "{context}\n",
    "</context>\n",
    "Question: {input}\"\"\")"
   ]
  },
  {
   "cell_type": "code",
   "execution_count": null,
   "metadata": {},
   "outputs": [],
   "source": [
    "# Chain Introduction\n",
    "# Create Stuff Docment Chain\n",
    "\n",
    "from langchain.chains.combine_documents import create_stuff_documents_chain\n",
    "\n",
    "document_chain = create_stuff_documents_chain(llm,prompt)"
   ]
  },
  {
   "cell_type": "code",
   "execution_count": 42,
   "metadata": {},
   "outputs": [],
   "source": [
    "from langchain.chains import create_retrieval_chain\n",
    "retriever = db.as_retriever()\n",
    "retrieval_chain = create_retrieval_chain(retriever,document_chain)"
   ]
  },
  {
   "cell_type": "code",
   "execution_count": 46,
   "metadata": {},
   "outputs": [],
   "source": [
    "response = retrieval_chain.invoke({\"input\":\"Me gustaría saber que comida le gusta a Pedro\"})"
   ]
  },
  {
   "cell_type": "code",
   "execution_count": 47,
   "metadata": {},
   "outputs": [
    {
     "data": {
      "text/plain": [
       "'Pedro menciona que le gusta comer hamburguesa en el texto proporcionado. Por lo tanto, la comida que le gusta a Pedro es la hamburguesa.'"
      ]
     },
     "execution_count": 47,
     "metadata": {},
     "output_type": "execute_result"
    }
   ],
   "source": [
    "response[\"answer\"]"
   ]
  }
 ],
 "metadata": {
  "kernelspec": {
   "display_name": "venv",
   "language": "python",
   "name": "python3"
  },
  "language_info": {
   "codemirror_mode": {
    "name": "ipython",
    "version": 3
   },
   "file_extension": ".py",
   "mimetype": "text/x-python",
   "name": "python",
   "nbconvert_exporter": "python",
   "pygments_lexer": "ipython3",
   "version": "3.12.3"
  }
 },
 "nbformat": 4,
 "nbformat_minor": 2
}
